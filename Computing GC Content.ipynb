{
 "metadata": {
  "name": "Computing GC Content"
 },
 "nbformat": 3,
 "nbformat_minor": 0,
 "worksheets": [
  {
   "cells": [
    {
     "cell_type": "markdown",
     "metadata": {},
     "source": [
      "[Computing GC Content](http://rosalind.info/problems/gc/)"
     ]
    },
    {
     "cell_type": "code",
     "collapsed": false,
     "input": [
      "filename=open('rosalind_gc.txt','r')\n",
      "lines=filename.readlines()\n",
      "filename.close()\n",
      "\n",
      "all=''\n",
      "for line in lines:\n",
      "    all+=line.replace('\\n','')\n",
      "    \n",
      "    \n",
      "all=all.split('>')[1:]\n",
      "\n",
      "for item in all:\n",
      "    print item[:13],round(float(item[13:].count('G') + item[13:].count('C'))/len(item[13:]) * 100,8)\n",
      "\n"
     ],
     "language": "python",
     "metadata": {},
     "outputs": [
      {
       "output_type": "stream",
       "stream": "stdout",
       "text": [
        "Rosalind_7914 50.71982281\n",
        "Rosalind_9625 46.82875264\n",
        "Rosalind_2306 50.25025025\n",
        "Rosalind_6962 50.77262693\n",
        "Rosalind_3529 50.86107922\n",
        "Rosalind_0065 51.26728111\n"
       ]
      }
     ],
     "prompt_number": 1
    }
   ],
   "metadata": {}
  }
 ]
}